{
 "cells": [
  {
   "cell_type": "code",
   "execution_count": 3,
   "id": "baa45f1c",
   "metadata": {},
   "outputs": [],
   "source": [
    "%matplotlib inline\n",
    "from matplotlib import pyplot as plt\n",
    "\n",
    "import os\n",
    "import re\n",
    "import shutil\n",
    "import cv2\n",
    "from PIL import Image\n",
    "#import moviepy.editor as mpy"
   ]
  },
  {
   "cell_type": "code",
   "execution_count": null,
   "id": "5aed6929",
   "metadata": {},
   "outputs": [],
   "source": [
    "#下载视频\n",
    "pip3 install you-get\n",
    "you-get -O ./image/video https://www.bilibili.com/video/BV124411Q7iV"
   ]
  },
  {
   "cell_type": "code",
   "execution_count": 121,
   "id": "0a3651e8",
   "metadata": {},
   "outputs": [],
   "source": [
    "#求一个方框图像的平均值\n",
    "def GridAvage(frame, startX, startY, width, height):\n",
    "    sum = 0\n",
    "    for x in range(startX, startX+width):\n",
    "        for y in range(startY, startY+height):\n",
    "            sum = sum + frame[y, x]\n",
    "            frame[y,x]=255   #set to white\n",
    "    return sum//(width*height)\n",
    "\n",
    "def GetChar(value):\n",
    "    symbol = list(\"$@B%8&WM#*oahkbdpqwmZO0QLCJUYXzcvunxrjft/\\|()1{}[]?-_+~<>i!lI;:,\\\"^`'. \")\n",
    "    pos = (len(symbol)-1) * value //255\n",
    "    return symbol[pos]\n",
    "\n",
    "#把一个像素方框转成字母\n",
    "def Grid2Char(frame):\n",
    "    labelSize=cv2.getTextSize('@', cv2.FONT_HERSHEY_SIMPLEX, 1, 1)\n",
    "    width = labelSize[0][0]\n",
    "    height = labelSize[0][1] + labelSize[1] \n",
    "    \n",
    "    for x in range(0, frame.shape[1], width):\n",
    "        for y in range(0, frame.shape[0], height):\n",
    "            w = frame.shape[1] - x\n",
    "            if w>width: w=width\n",
    "            \n",
    "            h = frame.shape[0] - y\n",
    "            if h>height: h=height\n",
    "            \n",
    "            value = GridAvage(frame, x, y, w, h)\n",
    "            char = GetChar(value)\n",
    "            frame = cv2.putText(frame, char, (x, y), \n",
    "                                cv2.FONT_HERSHEY_SIMPLEX, 1, (0, 0, 0)) #(value, value, value)"
   ]
  },
  {
   "cell_type": "code",
   "execution_count": null,
   "id": "12a2d509",
   "metadata": {},
   "outputs": [
    {
     "name": "stdout",
     "output_type": "stream",
     "text": [
      "正在处理第10帧\n"
     ]
    }
   ],
   "source": [
    "from IPython.display import clear_output, display\n",
    "\n",
    "#保存每帧\n",
    "cap = cv2.VideoCapture(\"./image/video.flv\")\n",
    "status,frame = cap.read()\n",
    "\n",
    "#用于将图片写入视频   #mp4 3 times bigger than flv\n",
    "videoWriter = cv2.VideoWriter('./image/result.mp4', \n",
    "                              cv2.VideoWriter_fourcc(*'MP4V'), \n",
    "                              cap.get(cv2.CAP_PROP_FPS), \n",
    "                              (frame.shape[1],frame.shape[0]), \n",
    "                              False)\n",
    "'''\n",
    "videoWriter = cv2.VideoWriter('./image/result.flv', \n",
    "                              cv2.VideoWriter_fourcc(*'FLV1'),  #cap.get(cv2.CAP_PROP_FOURCC),\n",
    "                              cap.get(cv2.CAP_PROP_FPS),                               \n",
    "                              (frame.shape[1], frame.shape[0]), #( cap.get(cv2.CAP_PROP_FRAME_WIDTH),  cap.get(cv2.CAP_PROP_FRAME_HEIGHT) ), \n",
    "                              False)\n",
    "'''\n",
    "index = 0;\n",
    "while status:\n",
    "    #if index>=10: break\n",
    "    clear_output(wait=True)\n",
    "    print(f\"正在处理第{index}帧\")    # use display(f) if you encounter performance issues\n",
    "    #plt.imshow(frame);\n",
    "    #plt.show()\n",
    "    frame = cv2.cvtColor(frame, cv2.COLOR_BGR2GRAY)\n",
    "    #cv2.imshow(\"greyImg\", frame);\n",
    "    #plt.imshow(frame, cmap='gray', vmin=0, vmax=255);\n",
    "    #plt.show()\n",
    "    \n",
    "    Grid2Char(frame)\n",
    "    #plt.imshow(frame, cmap='gray', vmin=0, vmax=255);\n",
    "    #plt.show()\n",
    "    videoWriter.write(frame)\n",
    "    status,frame = cap.read()\n",
    "    index = index + 1\n",
    "\n",
    "videoWriter.release()\n",
    "print(\"Done\")\n"
   ]
  },
  {
   "cell_type": "code",
   "execution_count": null,
   "id": "2c073501",
   "metadata": {},
   "outputs": [],
   "source": []
  }
 ],
 "metadata": {
  "kernelspec": {
   "display_name": "Python 3",
   "language": "python",
   "name": "python3"
  },
  "language_info": {
   "codemirror_mode": {
    "name": "ipython",
    "version": 3
   },
   "file_extension": ".py",
   "mimetype": "text/x-python",
   "name": "python",
   "nbconvert_exporter": "python",
   "pygments_lexer": "ipython3",
   "version": "3.8.8"
  }
 },
 "nbformat": 4,
 "nbformat_minor": 5
}
