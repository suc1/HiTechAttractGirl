{
 "cells": [
  {
   "cell_type": "code",
   "execution_count": null,
   "id": "8128db99",
   "metadata": {},
   "outputs": [],
   "source": [
    "#下载视频\n",
    "pip3 install you-get\n",
    "you-get -O ./image/video https://www.bilibili.com/video/BV124411Q7iV\n",
    "\n",
    "pip3 install moviepy\n",
    "pip3 install moviepy --upgrade    #TypeError: must be real number, not NoneType\n",
    "#import moviepy.editor as mpy"
   ]
  },
  {
   "cell_type": "code",
   "execution_count": 10,
   "id": "baa45f1c",
   "metadata": {},
   "outputs": [],
   "source": [
    "%matplotlib inline\n",
    "from matplotlib import pyplot as plt\n",
    "\n",
    "import os\n",
    "import re\n",
    "import shutil\n",
    "import cv2\n",
    "from PIL import Image"
   ]
  },
  {
   "cell_type": "code",
   "execution_count": 15,
   "id": "0a3651e8",
   "metadata": {},
   "outputs": [],
   "source": [
    "#求一个方框图像的平均值\n",
    "def GridAvage(frame, startX, startY, width, height):\n",
    "    sum = 0\n",
    "    for x in range(startX, startX+width):\n",
    "        for y in range(startY, startY+height):\n",
    "            sum = sum + frame[y, x]\n",
    "            frame[y,x]=255   #set to white\n",
    "    return sum//(width*height)\n",
    "\n",
    "def GetChar(value):\n",
    "    symbol = list(\"$@B%8&WM#*oahkbdpqwmZO0QLCJUYXzcvunxrjft/\\|()1{}[]?-_+~<>i!lI;:,\\\"^`'. \")\n",
    "    pos = (len(symbol)-1) * value //255\n",
    "    return symbol[pos]\n",
    "\n",
    "#把一个像素方框转成字母\n",
    "def Grid2Char(frame):\n",
    "    #scale(0.2, 0.5) is very important to display the details\n",
    "    labelSize=cv2.getTextSize('@', cv2.FONT_HERSHEY_SIMPLEX, 0.3, 1)\n",
    "    width = labelSize[0][0]\n",
    "    height = labelSize[0][1] + labelSize[1] \n",
    "    \n",
    "    for x in range(0, frame.shape[1], width):  #Slug!!!\n",
    "        for y in range(0, frame.shape[0], height):\n",
    "            w = frame.shape[1] - x\n",
    "            if w>width: w=width\n",
    "            \n",
    "            h = frame.shape[0] - y\n",
    "            if h>height: h=height\n",
    "            \n",
    "            value = GridAvage(frame, x, y, w, h)\n",
    "            char = GetChar(value)\n",
    "            value = int (value)\n",
    "            value = value *3 //5; #darker\n",
    "            frame = cv2.putText(frame, char, (x, y), \n",
    "                                cv2.FONT_HERSHEY_SIMPLEX, 0.3, (value, value, value)) #(0, 0, 0)"
   ]
  },
  {
   "cell_type": "code",
   "execution_count": 16,
   "id": "12a2d509",
   "metadata": {},
   "outputs": [
    {
     "name": "stdout",
     "output_type": "stream",
     "text": [
      "正在处理第99帧\n",
      "Done\n"
     ]
    }
   ],
   "source": [
    "from IPython.display import clear_output, display\n",
    "\n",
    "#保存每帧\n",
    "cap = cv2.VideoCapture(\"./image/video.mp4\")\n",
    "status,frame = cap.read()\n",
    "\n",
    "#用于将图片写入视频   #mp4 3 times bigger than flv\n",
    "videoWriter = cv2.VideoWriter('./image/charDance.mp4', \n",
    "                              cv2.VideoWriter_fourcc(*'mp4v'), \n",
    "                              cap.get(cv2.CAP_PROP_FPS), \n",
    "                              (frame.shape[1],frame.shape[0]), \n",
    "                              False)\n",
    "'''\n",
    "videoWriter = cv2.VideoWriter('./image/charDance.flv', \n",
    "                              cv2.VideoWriter_fourcc(*'FLV1'),  #cap.get(cv2.CAP_PROP_FOURCC),\n",
    "                              cap.get(cv2.CAP_PROP_FPS),                               \n",
    "                              (frame.shape[1], frame.shape[0]), #( cap.get(cv2.CAP_PROP_FRAME_WIDTH),  cap.get(cv2.CAP_PROP_FRAME_HEIGHT) ), \n",
    "                              False)\n",
    "'''\n",
    "index = 0;\n",
    "while status:\n",
    "    #if index>=100: break\n",
    "    clear_output(wait=True)\n",
    "    print(f\"正在处理第{index}帧\")    # use display(f) if you encounter performance issues\n",
    "    #plt.imshow(frame);\n",
    "    #plt.show()\n",
    "    frame = cv2.cvtColor(frame, cv2.COLOR_BGR2GRAY)\n",
    "    #plt.imshow(frame, cmap='gray', vmin=0, vmax=255);\n",
    "    #plt.show()\n",
    "    #cv2.imwrite('./image/1.png', frame)\n",
    "    \n",
    "    Grid2Char(frame)\n",
    "    #plt.imshow(frame, cmap='gray', vmin=0, vmax=255);\n",
    "    #plt.show()\n",
    "    #cv2.imwrite('./image/2.png', frame)\n",
    "    videoWriter.write(frame)   #新文件大约是原先3倍，two-pass encode?\n",
    "    status,frame = cap.read()\n",
    "    index = index + 1\n",
    "\n",
    "videoWriter.release()\n",
    "print(\"Done\")\n"
   ]
  },
  {
   "cell_type": "code",
   "execution_count": null,
   "id": "2c073501",
   "metadata": {},
   "outputs": [],
   "source": [
    "import moviepy.editor as mpy\n",
    "\n",
    "#把原先视频变成mp4格式, 好象mpy无法处理flv\n",
    "#https://video.online-convert.com/convert-to-mp4\n",
    "\n",
    "def addMusic(musicFileName, myVideoFileName, outputFileName):\n",
    "    # 读取代码视频\n",
    "    my_clip = mpy.VideoFileClip(myVideoFileName)\n",
    "    # 截取背景音乐\n",
    "    audio_background = mpy.AudioFileClip(musicFileName).subclip(0, 60)\n",
    "    audio_background.write_audiofile('./image/background.mp3')\n",
    "    # 视频中插入音频\n",
    "    final_clip = my_clip.set_audio(audio_background)\n",
    "    # 保存最终视频\n",
    "    final_clip.write_videofile(outputFileName, fps=20)\n",
    "    \n",
    "addMusic('./image/video.mp4', './image/charDance.mp4', './image/charDanceFinal.mp4')"
   ]
  }
 ],
 "metadata": {
  "kernelspec": {
   "display_name": "Python 3",
   "language": "python",
   "name": "python3"
  },
  "language_info": {
   "codemirror_mode": {
    "name": "ipython",
    "version": 3
   },
   "file_extension": ".py",
   "mimetype": "text/x-python",
   "name": "python",
   "nbconvert_exporter": "python",
   "pygments_lexer": "ipython3",
   "version": "3.8.8"
  }
 },
 "nbformat": 4,
 "nbformat_minor": 5
}
