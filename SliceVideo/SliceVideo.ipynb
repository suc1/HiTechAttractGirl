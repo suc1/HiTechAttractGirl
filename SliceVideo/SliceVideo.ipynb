{
 "cells": [
  {
   "cell_type": "code",
   "execution_count": 1,
   "id": "c3ca5f7d",
   "metadata": {},
   "outputs": [],
   "source": [
    "import cv2\n",
    "import moviepy.editor as mpy\n",
    "from IPython.display import clear_output, display"
   ]
  },
  {
   "cell_type": "code",
   "execution_count": 2,
   "id": "e013e5a9",
   "metadata": {},
   "outputs": [],
   "source": [
    "class RangeSelect:\n",
    "    playerName = 'PlayerWindow'\n",
    "    \n",
    "    def __init__(self, videoFileName):\n",
    "        self.readVideo = cv2.VideoCapture(videoFileName) #要抽取视频的文件名\n",
    "        self.fps, self.frameSum = self.GetInformation()  #25.026, 200.0\n",
    "        \n",
    "    def GetInformation(self):\n",
    "        return self.readVideo.get(cv2.CAP_PROP_FPS), int(self.readVideo.get(cv2.CAP_PROP_FRAME_COUNT))\n",
    "    \n",
    "    @staticmethod\n",
    "    def onTrackbar(pos, pRangeSelect):\n",
    "        pRangeSelect.readVideo.set(cv2.CAP_PROP_POS_FRAMES, pos)\n",
    "        posTime = int( pRangeSelect.readVideo.get(cv2.CAP_PROP_POS_MSEC) )\n",
    "        \n",
    "        status, frame = pRangeSelect.readVideo.read()\n",
    "        frame = cv2.putText(frame, str(posTime)+'ms', (16, 32), \n",
    "                                cv2.FONT_HERSHEY_SIMPLEX, 1, (0, 0, 0))\n",
    "        cv2.imshow(pRangeSelect.playerName, frame)\n",
    "    \n",
    "    def SelectRange(self):\n",
    "        cv2.namedWindow(self.playerName)\n",
    "        cv2.createTrackbar('FramePos', RangeSelect.playerName , 0, self.frameSum-1, \n",
    "                           lambda pos: RangeSelect.onTrackbar(pos, self))\n",
    "        RangeSelect.onTrackbar(0, self)\n",
    "\n",
    "        cv2.waitKey(0)   #To exit the window, DON’T CLICK THE RED CROSS, just tap any key on your keyboard!\n",
    "        cv2.destroyAllWindows()"
   ]
  },
  {
   "cell_type": "code",
   "execution_count": 3,
   "id": "ef0912cd",
   "metadata": {},
   "outputs": [],
   "source": [
    "class SliceVideo:\n",
    "    def __init__(self, videoFileName):\n",
    "        self.videoFileName = videoFileName #要抽取视频的文件名\n",
    "        self.fps = 20\n",
    "    \n",
    "    def ExtractVideo(self, outputFileName):\n",
    "        cap = cv2.VideoCapture(self.videoFileName)\n",
    "        pos0 = int( input('起始帧号:') )\n",
    "        cap.set(cv2.CAP_PROP_POS_FRAMES, pos0)\n",
    "            \n",
    "        status,frame = cap.read()\n",
    "        self.fps = cap.get(cv2.CAP_PROP_FPS)\n",
    "        videoWriter = cv2.VideoWriter( outputFileName, \n",
    "                              cv2.VideoWriter_fourcc(*'mp4v'), \n",
    "                              self.fps, \n",
    "                              (frame.shape[1],frame.shape[0]), \n",
    "                              True)\n",
    "       \n",
    "        pos1 = int( input('终止帧号:') )\n",
    "        while status and pos0 < pos1:\n",
    "            clear_output(wait=True)\n",
    "            print(f\"正在处理第{pos0}帧\")    # use display(f) if you encounter performance issues\n",
    "            videoWriter.write(frame)   #新文件大约是原先3倍，two-pass encode?\n",
    "            status,frame = cap.read()\n",
    "            pos0 = pos0 + 1\n",
    "\n",
    "        videoWriter.release()\n",
    "        cap.release()\n",
    "        \n",
    "    def ExtractAudio(self, outputFileName):\n",
    "        pos0 = float( input('起始秒数:') )\n",
    "        pos1 = float( input('终止秒数:') )\n",
    "        audioBackground = mpy.AudioFileClip(self.videoFileName).subclip(pos0, pos1)\n",
    "        audioBackground.write_audiofile(outputFileName)\n",
    "    \n",
    "    @staticmethod\n",
    "    def VideoAddAudio(videoFileName, musicFileName, outputFileName, fps):\n",
    "        origanVideo = mpy.VideoFileClip(videoFileName)\n",
    "        audioBackground = mpy.AudioFileClip(musicFileName)\n",
    "        finalVideo = origanVideo.set_audio(audioBackground)\n",
    "        finalVideo.write_videofile(outputFileName, fps)"
   ]
  },
  {
   "cell_type": "code",
   "execution_count": 4,
   "id": "522e4080",
   "metadata": {},
   "outputs": [
    {
     "name": "stdout",
     "output_type": "stream",
     "text": [
      "正在处理第452帧\n",
      "0-exit, 1-选取范围(帧号和时间，只能按任意键退出)，2-存视频newSlice.mp4，3-存音频newSlice.mp3, 4-合成newSlice2.mp4:3\n",
      "起始秒数:10.4\n",
      "终止秒数:18.1\n"
     ]
    },
    {
     "name": "stderr",
     "output_type": "stream",
     "text": [
      "chunk:   2%|█▏                                                               | 3/170 [00:00<00:07, 23.46it/s, now=None]"
     ]
    },
    {
     "name": "stdout",
     "output_type": "stream",
     "text": [
      "MoviePy - Writing audio in ./newSlice.mp3\n"
     ]
    },
    {
     "name": "stderr",
     "output_type": "stream",
     "text": [
      "                                                                                                                       \r"
     ]
    },
    {
     "name": "stdout",
     "output_type": "stream",
     "text": [
      "MoviePy - Done.\n",
      "0-exit, 1-选取范围(帧号和时间，只能按任意键退出)，2-存视频newSlice.mp4，3-存音频newSlice.mp3, 4-合成newSlice2.mp4:4\n"
     ]
    },
    {
     "name": "stderr",
     "output_type": "stream",
     "text": [
      "chunk:   1%|▊                                                                | 2/171 [00:00<00:08, 19.89it/s, now=None]"
     ]
    },
    {
     "name": "stdout",
     "output_type": "stream",
     "text": [
      "Moviepy - Building video newSlice2.mp4.\n",
      "MoviePy - Writing audio in newSlice2TEMP_MPY_wvf_snd.mp3\n"
     ]
    },
    {
     "name": "stderr",
     "output_type": "stream",
     "text": [
      "t:   1%|▋                                                                    | 2/193 [00:00<00:09, 19.51it/s, now=None]"
     ]
    },
    {
     "name": "stdout",
     "output_type": "stream",
     "text": [
      "MoviePy - Done.\n",
      "Moviepy - Writing video newSlice2.mp4\n",
      "\n"
     ]
    },
    {
     "name": "stderr",
     "output_type": "stream",
     "text": [
      "                                                                                                                       \r"
     ]
    },
    {
     "name": "stdout",
     "output_type": "stream",
     "text": [
      "Moviepy - Done !\n",
      "Moviepy - video ready newSlice2.mp4\n",
      "0-exit, 1-选取范围(帧号和时间，只能按任意键退出)，2-存视频newSlice.mp4，3-存音频newSlice.mp3, 4-合成newSlice2.mp4:0\n",
      "0\n"
     ]
    }
   ],
   "source": [
    "origalVideo = \"video.mp4\" #要抽取视频的文件名\n",
    "fps = 25\n",
    "\n",
    "task = '1'\n",
    "while task != '0':\n",
    "    task = input('0-exit, 1-选取范围(帧号和时间，只能按任意键退出)，2-存视频newSlice.mp4，3-存音频newSlice.mp3, 4-合成newSlice2.mp4:')\n",
    "    if task == '1':\n",
    "        bigVideo = RangeSelect(origalVideo)\n",
    "        bigVideo.SelectRange()\n",
    "        fps = bigVideo.fps\n",
    "        #del bigVideo\n",
    "    elif task == '2':\n",
    "        v = SliceVideo(origalVideo)\n",
    "        v.ExtractVideo('./newSlice.mp4')\n",
    "    elif task == '3':\n",
    "        v = SliceVideo(origalVideo)\n",
    "        v.ExtractAudio('./newSlice.mp3')\n",
    "    elif task == '4':\n",
    "        SliceVideo.VideoAddAudio('newSlice.mp4', 'newSlice.mp3', 'newSlice2.mp4', fps)\n",
    "    else:\n",
    "        print(task)"
   ]
  },
  {
   "cell_type": "code",
   "execution_count": null,
   "id": "7f0f0891",
   "metadata": {},
   "outputs": [],
   "source": []
  }
 ],
 "metadata": {
  "kernelspec": {
   "display_name": "Python 3",
   "language": "python",
   "name": "python3"
  },
  "language_info": {
   "codemirror_mode": {
    "name": "ipython",
    "version": 3
   },
   "file_extension": ".py",
   "mimetype": "text/x-python",
   "name": "python",
   "nbconvert_exporter": "python",
   "pygments_lexer": "ipython3",
   "version": "3.8.8"
  }
 },
 "nbformat": 4,
 "nbformat_minor": 5
}
